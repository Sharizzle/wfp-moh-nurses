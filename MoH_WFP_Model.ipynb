{
 "cells": [
  {
   "cell_type": "markdown",
   "id": "ce75a089",
   "metadata": {},
   "source": [
    "# Imports"
   ]
  },
  {
   "cell_type": "code",
   "execution_count": 67,
   "id": "5decb338",
   "metadata": {},
   "outputs": [
    {
     "name": "stdout",
     "output_type": "stream",
     "text": [
      "The autoreload extension is already loaded. To reload it, use:\n",
      "  %reload_ext autoreload\n"
     ]
    }
   ],
   "source": [
    "%load_ext autoreload\n",
    "%autoreload 2"
   ]
  },
  {
   "cell_type": "code",
   "execution_count": 68,
   "id": "639052fd",
   "metadata": {},
   "outputs": [],
   "source": [
    "import pandas as pd\n",
    "import numpy as np\n",
    "import matplotlib.pyplot as plt\n",
    "\n",
    "# Import Functions\n",
    "import config\n",
    "import io_read_write\n",
    "import wrangle\n",
    "import columns\n",
    "import helpers\n",
    "\n",
    "# Import Data Required\n",
    "df_nursing_services = io_read_write.read_xlsx(\"./MoH_Model_Input.xlsx\", sheet_name=\"Nursing Services\")\n",
    "df_benchmarks = io_read_write.read_xlsx(\"./MoH_Model_Input.xlsx\", sheet_name=\"Benchmarks\")\n",
    "df_health_clusters = io_read_write.read_xlsx(\"./MoH_Model_Input.xlsx\", sheet_name=\"Health Clusters\")\n",
    "df_demand_data_input = io_read_write.read_xlsx(\"./MoH_Model_Input.xlsx\", sheet_name=\"Demand Data by Speciality\")\n",
    "df_scenario_criteria = io_read_write.read_xlsx(\"./MoH_Model_Input.xlsx\", sheet_name=\"Scenarios\")\n",
    "\n",
    "# Melt Relevant Datasets\n",
    "df_demand_data = df_demand_data_input.melt(\n",
    "    id_vars=[helpers.denormalize_text(columns.PATIENT_CARE_AREA), helpers.denormalize_text(columns.NURSING_SERVICE), helpers.denormalize_text(columns.SELECTED_DRIVER)],\n",
    "    var_name=\"Cluster\",\n",
    "    value_name=columns.DRIVER_VALUE\n",
    ")\n",
    "\n",
    "# Normalize Column Names\n",
    "df_nursing_services = wrangle.normalize_column_names(df_nursing_services)\n",
    "df_benchmarks = wrangle.normalize_column_names(df_benchmarks)\n",
    "df_health_clusters = wrangle.normalize_column_names(df_health_clusters)\n",
    "df_demand_data = wrangle.normalize_column_names(df_demand_data)\n",
    "df_scenario_criteria = wrangle.normalize_column_names(df_scenario_criteria)"
   ]
  },
  {
   "cell_type": "markdown",
   "id": "79375e3e",
   "metadata": {},
   "source": [
    "# Generate Benchmarks"
   ]
  },
  {
   "cell_type": "code",
   "execution_count": 69,
   "id": "e3a4cec5",
   "metadata": {},
   "outputs": [],
   "source": [
    "_additional_quantiles = [q for q in df_scenario_criteria[columns.PERCENTILE_VALUE].tolist() if q not in [0.25, 0.5, 0.75]]\n",
    "\n",
    "df_benchmarks_stats = (\n",
    "    df_benchmarks\n",
    "    .groupby([columns.PATIENT_CARE_AREA, columns.NURSING_SERVICE, columns.DRIVER], dropna=False)\n",
    "    .apply(helpers.calc_stats, value_col=columns.RATIO_VALUE, include_groups=False)\n",
    "    .reset_index()\n",
    ")\n",
    "\n",
    "df_avg_ratio_by_area_country = (\n",
    "    df_benchmarks\n",
    "    .groupby([columns.COUNTRY, columns.PATIENT_CARE_AREA], dropna=False)\n",
    "    [columns.RATIO_VALUE]\n",
    "    .mean()\n",
    "    .reset_index()\n",
    "    .rename(columns={columns.RATIO_VALUE: columns.AVERAGE_RATIO_VALUE})\n",
    ")\n",
    "\n",
    "df_avg_overall_ratio_by_country = (\n",
    "    df_benchmarks\n",
    "    [df_benchmarks[columns.PATIENT_CARE_AREA] == \"Overall\"]\n",
    "    .groupby([columns.COUNTRY], dropna=False)\n",
    "    [columns.RATIO_VALUE]\n",
    "    .mean()\n",
    "    .reset_index()\n",
    "    .rename(columns={columns.RATIO_VALUE: columns.AVERAGE_RATIO_VALUE})\n",
    ")\n",
    "\n",
    "df_benchmarks_scenarios = (\n",
    "    df_benchmarks\n",
    "    [df_benchmarks[columns.PATIENT_CARE_AREA] != \"Overall\"]\n",
    "    .groupby([columns.PATIENT_CARE_AREA, columns.NURSING_SERVICE, columns.DRIVER], dropna=False)\n",
    "    .apply(helpers.calc_stats_scenarios, quantiles = df_scenario_criteria[columns.PERCENTILE_VALUE].tolist(), value_col=columns.RATIO_VALUE, include_groups=False)\n",
    "    .reset_index()\n",
    ").drop(columns=[\"level_3\"])\n",
    "\n",
    "df_benchmarks_scenarios[columns.SELECTED_DRIVER] = (\n",
    "    df_benchmarks_scenarios[columns.DRIVER]\n",
    "    .astype(str)\n",
    "    .str.split(\" /\", n=1)\n",
    "    .str[1]\n",
    "    .add(\"s\")\n",
    "    .str.replace(\" \", \"\", regex=False)\n",
    ")"
   ]
  },
  {
   "cell_type": "markdown",
   "id": "149536e7",
   "metadata": {},
   "source": [
    "# Calculate Demand Data by Cluster - Current Year"
   ]
  },
  {
   "cell_type": "code",
   "execution_count": null,
   "id": "4e465c44",
   "metadata": {},
   "outputs": [],
   "source": [
    "# Expand nursing services by cluster\n",
    "df_demand_current_year = wrangle.expand_df_by_values(df = df_nursing_services, new_col = columns.CLUSTER, values = df_health_clusters[columns.CLUSTER].tolist(), as_category = True)\n",
    "df_demand_current_year[columns.REGION] = wrangle.vlookup_df(left_df = df_demand_current_year, right_df = df_health_clusters, left_on = [columns.CLUSTER], right_on = [columns.CLUSTER], return_col = columns.REGION)\n",
    "\n",
    "\n",
    "# Grab the driver value from the demand data\n",
    "df_demand_current_year[columns.DRIVER_VALUE] = wrangle.vlookup_df(left_df = df_demand_current_year, right_df = df_demand_data, left_on = [columns.PATIENT_CARE_AREA, columns.NURSING_SERVICE, columns.SELECTED_DRIVER, columns.CLUSTER], right_on = [columns.PATIENT_CARE_AREA, columns.NURSING_SERVICE, columns.SELECTED_DRIVER, columns.CLUSTER], return_col = columns.DRIVER_VALUE)\n",
    "\n",
    "# Grab benchmark Value for each scenario\n",
    "df_demand_current_year = wrangle.expand_df_by_values(df = df_demand_current_year, new_col = columns.SCENARIO_NAME, values = df_scenario_criteria[columns.SCENARIO_NAME].tolist())\n",
    "df_demand_current_year[columns.PERCENTILE] = wrangle.vlookup_df(left_df = df_demand_current_year, right_df = df_scenario_criteria, left_on = [columns.SCENARIO_NAME], right_on = [columns.SCENARIO_NAME], return_col = columns.PERCENTILE_VALUE)\n",
    "df_demand_current_year[columns.PERCENTILE] = df_demand_current_year[columns.PERCENTILE].astype(str)\n",
    "\n",
    "# Grab quartile values\n",
    "df_demand_current_year[columns.PERCENTILE_VALUE] = wrangle.vlookup_df(left_df = df_demand_current_year, right_df = df_benchmarks_scenarios, left_on = [columns.PATIENT_CARE_AREA, columns.NURSING_SERVICE, columns.SELECTED_DRIVER, columns.PERCENTILE], right_on = [columns.PATIENT_CARE_AREA, columns.NURSING_SERVICE, columns.SELECTED_DRIVER, columns.PERCENTILE], return_col = columns.PERCENTILE_VALUE)\n",
    "df_demand_current_year[columns.PERCENTILE_VALUE] = df_demand_current_year[columns.PERCENTILE_VALUE].fillna(0)\n",
    "\n",
    "# Perform calculations\n",
    "df_demand_current_year[columns.DEMAND] = np.ceil(\n",
    "    df_demand_current_year[columns.DRIVER_VALUE] * df_demand_current_year[columns.PERCENTILE_VALUE]\n",
    ").astype(int)\n",
    "\n",
    "# Distrbute by nursing level\n",
    "df_demand_current_year[columns.TECHNICIAN_PERCENTAGE] = wrangle.vlookup_df(left_df = df_demand_current_year, right_df = df_nursing_services, left_on = [columns.PATIENT_CARE_AREA, columns.NURSING_SERVICE], right_on = [columns.PATIENT_CARE_AREA, columns.NURSING_SERVICE], return_col = columns.TECHNICIAN_PERCENTAGE)\n",
    "df_demand_current_year[columns.REGISTERED_NURSE_PERCENTAGE] = wrangle.vlookup_df(left_df = df_demand_current_year, right_df = df_nursing_services, left_on = [columns.PATIENT_CARE_AREA, columns.NURSING_SERVICE], right_on = [columns.PATIENT_CARE_AREA, columns.NURSING_SERVICE], return_col = columns.REGISTERED_NURSE_PERCENTAGE)\n",
    "df_demand_current_year[columns.APRN_PERCENTAGE] = wrangle.vlookup_df(left_df = df_demand_current_year, right_df = df_nursing_services, left_on = [columns.PATIENT_CARE_AREA, columns.NURSING_SERVICE], right_on = [columns.PATIENT_CARE_AREA, columns.NURSING_SERVICE], return_col = columns.APRN_PERCENTAGE)\n",
    "\n",
    "df_demand_current_year[columns.TECHNICIAN_DEMAND] = np.floor(df_demand_current_year[columns.DEMAND] * df_demand_current_year[columns.TECHNICIAN_PERCENTAGE]).astype(int)\n",
    "df_demand_current_year[columns.REGISTERED_NURSE_DEMAND] = np.floor(df_demand_current_year[columns.DEMAND] * df_demand_current_year[columns.REGISTERED_NURSE_PERCENTAGE]).astype(int)\n",
    "df_demand_current_year[columns.APRN_DEMAND] = np.floor(df_demand_current_year[columns.DEMAND] * df_demand_current_year[columns.APRN_PERCENTAGE]).astype(int)\n",
    "\n",
    "# Adjust last category (columns.APRN_DEMAND) so row sums never exceed DEMAND\n",
    "sum_demands = (\n",
    "    df_demand_current_year[columns.TECHNICIAN_DEMAND] +\n",
    "    df_demand_current_year[columns.REGISTERED_NURSE_DEMAND] +\n",
    "    df_demand_current_year[columns.APRN_DEMAND]\n",
    ")\n",
    "excess = sum_demands - df_demand_current_year[columns.DEMAND]\n",
    "df_demand_current_year[columns.APRN_DEMAND] -= excess\n",
    "df_demand_current_year[columns.APRN_DEMAND] = df_demand_current_year[columns.APRN_DEMAND].clip(lower=0)"
   ]
  }
 ],
 "metadata": {
  "kernelspec": {
   "display_name": ".venv",
   "language": "python",
   "name": "python3"
  },
  "language_info": {
   "codemirror_mode": {
    "name": "ipython",
    "version": 3
   },
   "file_extension": ".py",
   "mimetype": "text/x-python",
   "name": "python",
   "nbconvert_exporter": "python",
   "pygments_lexer": "ipython3",
   "version": "3.10.11"
  }
 },
 "nbformat": 4,
 "nbformat_minor": 5
}
