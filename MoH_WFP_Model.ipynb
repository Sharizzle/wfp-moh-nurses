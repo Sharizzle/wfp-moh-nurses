{
 "cells": [
  {
   "cell_type": "markdown",
   "id": "ce75a089",
   "metadata": {},
   "source": [
    "# Imports"
   ]
  },
  {
   "cell_type": "code",
   "execution_count": 54,
   "id": "5decb338",
   "metadata": {},
   "outputs": [
    {
     "name": "stdout",
     "output_type": "stream",
     "text": [
      "The autoreload extension is already loaded. To reload it, use:\n",
      "  %reload_ext autoreload\n"
     ]
    }
   ],
   "source": [
    "%load_ext autoreload\n",
    "%autoreload 2"
   ]
  },
  {
   "cell_type": "code",
   "execution_count": 55,
   "id": "639052fd",
   "metadata": {},
   "outputs": [],
   "source": [
    "import pandas as pd\n",
    "\n",
    "# Import Functions\n",
    "import config\n",
    "import io_read_write\n",
    "import wrangle\n",
    "import columns\n",
    "import helpers\n",
    "\n",
    "# Import Data Required\n",
    "df_nursing_services = io_read_write.read_xlsx(\"./MoH_Model_Input.xlsx\", sheet_name=\"Nursing Services\")\n",
    "df_benchmarks = io_read_write.read_xlsx(\"./MoH_Model_Input.xlsx\", sheet_name=\"Benchmarks\")\n",
    "df_health_clusters = io_read_write.read_xlsx(\"./MoH_Model_Input.xlsx\", sheet_name=\"Health Clusters\")\n",
    "df_demand_data_input = io_read_write.read_xlsx(\"./MoH_Model_Input.xlsx\", sheet_name=\"Demand Data by Speciality\")\n",
    "df_scenario_criteria = io_read_write.read_xlsx(\"./MoH_Model_Input.xlsx\", sheet_name=\"Scenarios\")\n",
    "\n",
    "# Melt Relevant Datasets\n",
    "df_demand_data = df_demand_data_input.melt(\n",
    "    id_vars=[\"Patient Care Area\", \"Nursing Service\", \"Driver\"],\n",
    "    var_name=\"Cluster\",\n",
    "    value_name=\"driver_value\"\n",
    ")\n",
    "\n",
    "# Normalize Column Names\n",
    "df_nursing_services = wrangle.normalize_column_names(df_nursing_services)\n",
    "df_benchmarks = wrangle.normalize_column_names(df_benchmarks)\n",
    "df_health_clusters = wrangle.normalize_column_names(df_health_clusters)\n",
    "df_demand_data = wrangle.normalize_column_names(df_demand_data)\n",
    "df_scenario_criteria = wrangle.normalize_column_names(df_scenario_criteria)"
   ]
  },
  {
   "cell_type": "markdown",
   "id": "79375e3e",
   "metadata": {},
   "source": [
    "# Generate Benchmarks"
   ]
  },
  {
   "cell_type": "code",
   "execution_count": 56,
   "id": "e3a4cec5",
   "metadata": {},
   "outputs": [],
   "source": [
    "df_benchmarks_stats = (\n",
    "    df_benchmarks\n",
    "    .groupby([columns.PATIENT_CARE_AREA, columns.NURSING_SERVICE, columns.DRIVER], dropna=False)\n",
    "    .apply(helpers.calc_stats, value_col=columns.RATIO_VALUE, include_groups=False)\n",
    "    .reset_index()\n",
    ")\n",
    "\n",
    "df_avg_ratio_by_area_country = (\n",
    "    df_benchmarks\n",
    "    .groupby([columns.COUNTRY, columns.PATIENT_CARE_AREA], dropna=False)\n",
    "    [columns.RATIO_VALUE]\n",
    "    .mean()\n",
    "    .reset_index()\n",
    "    .rename(columns={columns.RATIO_VALUE: \"average_ratio_value\"})\n",
    ")\n",
    "\n",
    "df_avg_overall_ratio_by_country = (\n",
    "    df_benchmarks\n",
    "    [df_benchmarks[columns.PATIENT_CARE_AREA] == \"Overall\"]\n",
    "    .groupby([columns.COUNTRY], dropna=False)\n",
    "    [columns.RATIO_VALUE]\n",
    "    .mean()\n",
    "    .reset_index()\n",
    "    .rename(columns={columns.RATIO_VALUE: \"average_ratio_value\"})\n",
    ")"
   ]
  },
  {
   "cell_type": "markdown",
   "id": "149536e7",
   "metadata": {},
   "source": [
    "# Calculate Demand Data by Cluster"
   ]
  },
  {
   "cell_type": "code",
   "execution_count": null,
   "id": "4e465c44",
   "metadata": {},
   "outputs": [],
   "source": []
  }
 ],
 "metadata": {
  "kernelspec": {
   "display_name": ".venv",
   "language": "python",
   "name": "python3"
  },
  "language_info": {
   "codemirror_mode": {
    "name": "ipython",
    "version": 3
   },
   "file_extension": ".py",
   "mimetype": "text/x-python",
   "name": "python",
   "nbconvert_exporter": "python",
   "pygments_lexer": "ipython3",
   "version": "3.10.11"
  }
 },
 "nbformat": 4,
 "nbformat_minor": 5
}
