{
 "cells": [
  {
   "cell_type": "markdown",
   "id": "ce75a089",
   "metadata": {},
   "source": [
    "# Imports"
   ]
  },
  {
   "cell_type": "code",
   "execution_count": 5,
   "id": "639052fd",
   "metadata": {},
   "outputs": [
    {
     "name": "stdout",
     "output_type": "stream",
     "text": [
      "Current Year: 2025\n",
      "Projection Year: 2030\n"
     ]
    }
   ],
   "source": [
    "import pandas as pd\n",
    "\n",
    "# Import Functions\n",
    "import config\n",
    "import io_read_write\n",
    "import wrangle\n",
    "\n",
    "print(f\"Current Year: {config.CURRENT_YEAR}\")\n",
    "print(f\"Projection Year: {config.PROJECTION_LAST_YEAR}\")\n",
    "\n",
    "# Import Data Required\n",
    "df_nursing_services = io_read_write.read_xlsx(\"./MoH_Model_Input.xlsx\", sheet_name=\"Nursing Services\")\n",
    "df_benchmarks = io_read_write.read_xlsx(\"./MoH_Model_Input.xlsx\", sheet_name=\"Benchmarks\")\n",
    "\n",
    "df_nursing_services = wrangle.normalize_column_names(df_nursing_services)\n",
    "df_benchmarks = wrangle.normalize_column_names(df_benchmarks)"
   ]
  }
 ],
 "metadata": {
  "kernelspec": {
   "display_name": ".venv",
   "language": "python",
   "name": "python3"
  },
  "language_info": {
   "codemirror_mode": {
    "name": "ipython",
    "version": 3
   },
   "file_extension": ".py",
   "mimetype": "text/x-python",
   "name": "python",
   "nbconvert_exporter": "python",
   "pygments_lexer": "ipython3",
   "version": "3.10.11"
  }
 },
 "nbformat": 4,
 "nbformat_minor": 5
}
